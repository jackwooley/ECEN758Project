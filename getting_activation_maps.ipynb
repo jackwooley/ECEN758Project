{
 "cells": [
  {
   "cell_type": "code",
   "execution_count": 635,
   "metadata": {},
   "outputs": [],
   "source": [
    "import torch\n",
    "import torch.nn as nn\n",
    "import matplotlib.pyplot as plt"
   ]
  },
  {
   "cell_type": "code",
   "execution_count": 636,
   "metadata": {},
   "outputs": [],
   "source": [
    "from data_loader_utility import get_dataloaders"
   ]
  },
  {
   "cell_type": "code",
   "execution_count": 637,
   "metadata": {},
   "outputs": [],
   "source": [
    "train_loader, val_loader, test_loader = get_dataloaders()"
   ]
  },
  {
   "cell_type": "code",
   "execution_count": 638,
   "metadata": {},
   "outputs": [],
   "source": [
    "imgs, labels = next(iter(train_loader))"
   ]
  },
  {
   "cell_type": "code",
   "execution_count": 639,
   "metadata": {},
   "outputs": [
    {
     "data": {
      "text/plain": [
       "(-0.5, 27.5, 27.5, -0.5)"
      ]
     },
     "execution_count": 639,
     "metadata": {},
     "output_type": "execute_result"
    },
    {
     "data": {
      "image/png": "[encoded data removed]",
      "text/plain": [
       "<Figure size 640x480 with 1 Axes>"
      ]
     },
     "metadata": {},
     "output_type": "display_data"
    }
   ],
   "source": [
    "plt.imshow(imgs[0].reshape(28,28), cmap='gray')\n",
    "plt.axis('off')"
   ]
  },
  {
   "cell_type": "code",
   "execution_count": 640,
   "metadata": {},
   "outputs": [],
   "source": [
    "class HomemadeCNN(nn.Module):\n",
    "    def __init__(self):\n",
    "        super().__init__()\n",
    "        self.conv1 = nn.Conv2d(1, 28, kernel_size=3, stride=1, padding=1)  # review wht the different channels are (andrew ng)\n",
    "        self.act1 = nn.ReLU()\n",
    "        self.pool1 = nn.MaxPool2d(kernel_size=2)\n",
    "        # self.drop1 = nn.Dropout(0.3)\n",
    "\n",
    "        self.conv2 = nn.Conv2d(28, 14, kernel_size=3, stride=1, padding=1)  # default padding is 0, so we need to specify 1 to get the dimensions we want\n",
    "        self.act2 = nn.ReLU()\n",
    "        self.pool2 = nn.MaxPool2d(kernel_size=2)\n",
    "\n",
    "        # new convolutionl layer\n",
    "        # self.conv3 = nn.Conv2d(14, 7, kernel_size=3, stride=1, padding=1)\n",
    "        # self.act3 = nn.ReLU()\n",
    "        # self.pool3 = nn.MaxPool2d(kernel_size=2)\n",
    "\n",
    "        # batchnorm dded\n",
    "        # self.bn1 = nn.BatchNorm2d()  # how does this value affect the later layers, accuracy, etc.?\n",
    "\n",
    "        self.flat = nn.Flatten()\n",
    "# RuntimeError: mat1 and mat2 shapes cannot be multiplied (32x3388 and 343x343)\n",
    "        self.fc4 = nn.Linear(14*7*7, 343)\n",
    "        self.act4 = nn.ReLU()\n",
    "        self.drop4 = nn.Dropout(0.2)\n",
    "\n",
    "        self.fc5 = nn.Linear(343, 10)\n",
    "\n",
    "    def forward(self, x):\n",
    "        # input 3x32x32, output 32x32x32\n",
    "        print(x.shape, 'original')\n",
    "        x = self.act1(self.conv1(x))\n",
    "        print(x.shape, 'after first conv')\n",
    "        x = self.pool1(x)\n",
    "        print(x.shape, 'after 1st maxpool')\n",
    "        # x = self.drop1(x)\n",
    "        # print(x.shape, 'after dropout')\n",
    "        # input 32x32x32, output 32x32x32\n",
    "        x = self.act2(self.conv2(x))\n",
    "        print(x.shape, 'after 2nd conv')\n",
    "        # input 32x32x32, output 32x16x16\n",
    "        x = self.pool2(x)\n",
    "        print(x.shape, 'after 2nd maxpool')\n",
    "        # new conv layer\n",
    "        # x = self.act3(self.conv3(x))\n",
    "        # print(x.shape, 'after 3rd conv')\n",
    "        # x = self.pool3(x)\n",
    "        # print(x.shape, 'after 2nd pool')\n",
    "        # input 32x16x16, output 8192\n",
    "        x = self.flat(x)\n",
    "        x = torch.flatten(x)\n",
    "        print(x.shape, 'after flattening')\n",
    "        # input 8192, output 512\n",
    "        x = self.act4(self.fc4(x))\n",
    "        x = self.drop4(x)\n",
    "        # print(x.shape, 'after last dropout layer')\n",
    "        # input 512, output 10\n",
    "        x = self.fc5(x)\n",
    "        print(x.shape, 'last shape after nn.Linear(343, 10)\\n\\n')\n",
    "        return x\n"
   ]
  },
  {
   "cell_type": "code",
   "execution_count": 641,
   "metadata": {},
   "outputs": [
    {
     "data": {
      "text/plain": [
       "HomemadeCNN(\n",
       "  (conv1): Conv2d(1, 28, kernel_size=(3, 3), stride=(1, 1), padding=(1, 1))\n",
       "  (act1): ReLU()\n",
       "  (pool1): MaxPool2d(kernel_size=2, stride=2, padding=0, dilation=1, ceil_mode=False)\n",
       "  (conv2): Conv2d(28, 14, kernel_size=(3, 3), stride=(1, 1), padding=(1, 1))\n",
       "  (act2): ReLU()\n",
       "  (pool2): MaxPool2d(kernel_size=2, stride=2, padding=0, dilation=1, ceil_mode=False)\n",
       "  (flat): Flatten(start_dim=1, end_dim=-1)\n",
       "  (fc4): Linear(in_features=686, out_features=343, bias=True)\n",
       "  (act4): ReLU()\n",
       "  (drop4): Dropout(p=0.2, inplace=False)\n",
       "  (fc5): Linear(in_features=343, out_features=10, bias=True)\n",
       ")"
      ]
     },
     "execution_count": 641,
     "metadata": {},
     "output_type": "execute_result"
    }
   ],
   "source": [
    "model = HomemadeCNN()\n",
    "model.load_state_dict(torch.load('homemademodel.pth'))\n",
    "model.eval()"
   ]
  },
  {
   "cell_type": "code",
   "execution_count": 642,
   "metadata": {},
   "outputs": [],
   "source": [
    "# defines two global scope variables to store our gradients and activations\n",
    "gradients = None\n",
    "activations = None\n",
    "\n",
    "def backward_hook(module, grad_input, grad_output):\n",
    "  global gradients # refers to the variable in the global scope\n",
    "  print('Backward hook running...')\n",
    "  gradients = grad_output\n",
    "  # In this case, we expect it to be torch.Size([batch size, 1024, 8, 8])\n",
    "  print(f'Gradients size: {gradients[0].size()}') \n",
    "  # We need the 0 index because the tensor containing the gradients comes\n",
    "  # inside a one element tuple.\n",
    "\n",
    "def forward_hook(module, args, output):\n",
    "  global activations # refers to the variable in the global scope\n",
    "  print('Forward hook running...')\n",
    "  activations = output\n",
    "  # In this case, we expect it to be torch.Size([batch size, 1024, 8, 8])\n",
    "  print(f'Activations size: {activations.size()}')"
   ]
  },
  {
   "cell_type": "code",
   "execution_count": 643,
   "metadata": {},
   "outputs": [],
   "source": [
    "backward_hook = model.conv2.register_full_backward_hook(backward_hook)\n",
    "forward_hook = model.conv2.register_forward_hook(forward_hook)"
   ]
  },
  {
   "cell_type": "code",
   "execution_count": 644,
   "metadata": {},
   "outputs": [
    {
     "name": "stdout",
     "output_type": "stream",
     "text": [
      "torch.Size([1, 28, 28]) original\n",
      "torch.Size([28, 28, 28]) after first conv\n",
      "torch.Size([28, 14, 14]) after 1st maxpool\n",
      "Forward hook running...\n",
      "Activations size: torch.Size([14, 14, 14])\n",
      "torch.Size([14, 14, 14]) after 2nd conv\n",
      "torch.Size([14, 7, 7]) after 2nd maxpool\n",
      "torch.Size([686]) after flattening\n",
      "torch.Size([10]) last shape after nn.Linear(343, 10)\n",
      "\n",
      "\n",
      "Backward hook running...\n",
      "Gradients size: torch.Size([14, 14, 14])\n"
     ]
    }
   ],
   "source": [
    "curr_img = imgs[10]\n",
    "model(curr_img).sum().backward()"
   ]
  },
  {
   "cell_type": "code",
   "execution_count": 645,
   "metadata": {},
   "outputs": [
    {
     "data": {
      "text/plain": [
       "torch.Size([14, 14, 14])"
      ]
     },
     "execution_count": 645,
     "metadata": {},
     "output_type": "execute_result"
    }
   ],
   "source": [
    "gradients[0].shape"
   ]
  },
  {
   "cell_type": "code",
   "execution_count": 646,
   "metadata": {},
   "outputs": [],
   "source": [
    "pooled_gradients = torch.mean(gradients[0], dim=[1,2])"
   ]
  },
  {
   "cell_type": "code",
   "execution_count": 647,
   "metadata": {},
   "outputs": [],
   "source": [
    "import torch.nn.functional as F\n",
    "# import matplotlib.pyplot as plt\n",
    "\n",
    "# weight the channels by corresponding gradients\n",
    "for i in range(activations.size()[1]):\n",
    "    activations[i, :, :] *= pooled_gradients[i]\n",
    "\n",
    "# average the channels of the activations\n",
    "heatmap = torch.mean(activations, dim=0).squeeze()\n",
    "\n",
    "# relu on top of the heatmap\n",
    "heatmap = F.relu(heatmap)\n",
    "\n",
    "# normalize the heatmap\n",
    "heatmap /= torch.max(heatmap)\n",
    "\n",
    "# draw the heatmap\n",
    "# plt.matshow(heatmap.detach())"
   ]
  },
  {
   "cell_type": "code",
   "execution_count": 648,
   "metadata": {},
   "outputs": [
    {
     "data": {
      "image/png": "[encoded data removed]",
      "text/plain": [
       "<Figure size 1000x500 with 3 Axes>"
      ]
     },
     "metadata": {},
     "output_type": "display_data"
    }
   ],
   "source": [
    "from torchvision.transforms.functional import to_pil_image\n",
    "from matplotlib import colormaps\n",
    "import numpy as np\n",
    "import PIL\n",
    "\n",
    "fig, ax = plt.subplots(1,3, figsize=(10,5))\n",
    "ax = ax.flatten()\n",
    "\n",
    "ax[0].imshow(to_pil_image(imgs[0]))\n",
    "\n",
    "overlay = to_pil_image(heatmap.detach(), mode='F')\n",
    "\n",
    "cmap = colormaps['jet']\n",
    "overlay = (255 * cmap(np.asarray(overlay) ** 2)[:, :, :]).astype(np.uint8)\n",
    "\n",
    "ax[0].imshow(overlay, alpha=0.8, interpolation='nearest')\n",
    "ax[1].imshow(heatmap.detach())\n",
    "ax[2].imshow(curr_img.reshape(28,28), cmap='gray')\n",
    "plt.show()"
   ]
  },
  {
   "cell_type": "code",
   "execution_count": null,
   "metadata": {},
   "outputs": [],
   "source": []
  }
 ],
 "metadata": {
  "kernelspec": {
   "display_name": "local",
   "language": "python",
   "name": "python3"
  },
  "language_info": {
   "codemirror_mode": {
    "name": "ipython",
    "version": 3
   },
   "file_extension": ".py",
   "mimetype": "text/x-python",
   "name": "python",
   "nbconvert_exporter": "python",
   "pygments_lexer": "ipython3",
   "version": "3.9.7"
  }
 },
 "nbformat": 4,
 "nbformat_minor": 2
}
